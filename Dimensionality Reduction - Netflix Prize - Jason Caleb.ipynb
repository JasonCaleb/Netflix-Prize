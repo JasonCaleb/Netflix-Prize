{
 "cells": [
  {
   "cell_type": "markdown",
   "id": "be0555f5",
   "metadata": {},
   "source": [
    "# Import Libraries"
   ]
  },
  {
   "cell_type": "code",
   "execution_count": 59,
   "id": "828220d0",
   "metadata": {
    "ExecuteTime": {
     "end_time": "2022-12-31T08:36:20.512948Z",
     "start_time": "2022-12-31T08:36:20.476830Z"
    }
   },
   "outputs": [],
   "source": [
    "import math\n",
    "import matplotlib.pyplot as plt\n",
    "import numpy as np\n",
    "import os\n",
    "import pandas as pd\n",
    "import seaborn as sns\n",
    "from collections import deque\n",
    "from datetime import datetime\n",
    "from scipy.sparse import csr_matrix\n",
    "from sklearn.decomposition import TruncatedSVD\n",
    "from sklearn.datasets import make_classification\n",
    "from sklearn.linear_model import LogisticRegression\n",
    "from sklearn.model_selection import cross_val_score\n",
    "from sklearn.model_selection import RepeatedStratifiedKFold\n",
    "from sklearn.model_selection import KFold\n",
    "from sklearn.pipeline import Pipeline"
   ]
  },
  {
   "cell_type": "markdown",
   "id": "9501fcb9",
   "metadata": {},
   "source": [
    "# Import Datasets"
   ]
  },
  {
   "cell_type": "markdown",
   "id": "f126c762",
   "metadata": {},
   "source": [
    "In total, there are six datasets, the first four of them are the training data, while remains are the testing data.\n",
    "<br><br>\n",
    "But, in this case, the datasets are presented in uncommon format. So, once we have successfully imported all the datasets and assigned them to variables, then we will fix the format before further processing.  "
   ]
  },
  {
   "cell_type": "code",
   "execution_count": 4,
   "id": "a45dc645",
   "metadata": {
    "ExecuteTime": {
     "end_time": "2022-12-31T06:55:17.694929Z",
     "start_time": "2022-12-31T06:54:04.388506Z"
    }
   },
   "outputs": [],
   "source": [
    "df1_dataset = pd.read_csv('data/combined_data_1.txt', header = None, names = ['Cust_Id', 'Rating', 'Date'])\n",
    "# df2_dataset = pd.read_csv('data/combined_data_2.txt', header = None, names = ['Cust_Id', 'Rating', 'Date'])\n",
    "# df3_dataset = pd.read_csv('data/combined_data_3.txt', header = None, names = ['Cust_Id', 'Rating', 'Date'])\n",
    "# df4_dataset = pd.read_csv('data/combined_data_4.txt', header = None, names = ['Cust_Id', 'Rating', 'Date'])\n",
    "\n",
    "prb_dataset = pd.read_csv(\"data/probe.txt\", names=['Cust_Id'])\n",
    "qlf_dataset = pd.read_csv(\"data/qualifying.txt\", names=['Cust_Id', 'Date'])"
   ]
  },
  {
   "cell_type": "markdown",
   "id": "b68bb6e4",
   "metadata": {},
   "source": [
    "# Data Viewing"
   ]
  },
  {
   "cell_type": "markdown",
   "id": "f714e18d",
   "metadata": {},
   "source": [
    "Although the format is presented in an uncommon way, fortunately the implementation is the same for all datasets. So, all we have to do is create a function (repairFormat(data)) that can convert the format for all the datasets."
   ]
  },
  {
   "cell_type": "code",
   "execution_count": 5,
   "id": "5d5228d9",
   "metadata": {
    "ExecuteTime": {
     "end_time": "2022-12-31T06:55:17.926674Z",
     "start_time": "2022-12-31T06:55:17.794462Z"
    }
   },
   "outputs": [],
   "source": [
    "def repairFormat(data):\n",
    "    # gather all movie ids and indices by using try and except which the id will be recognized \n",
    "    # as long as it outputs error when the value is trying to be converted into number (\":\")\n",
    "    movie_indices = []\n",
    "    movie_ids = []\n",
    "    for i in range(data.shape[0]):\n",
    "        try:\n",
    "            int(data[\"Cust_Id\"][i])\n",
    "        except ValueError:\n",
    "            movie_indices.append(i)\n",
    "            movie_ids.append(data[\"Cust_Id\"][i][:-1])\n",
    "\n",
    "    # concatenating each data, categorized by the movie id\n",
    "    newData = []\n",
    "    length = len(movie_indices)\n",
    "    for i in range(length):\n",
    "        if i != length-1:\n",
    "            # append all columns except movie_id\n",
    "            tobeConcatenated = [\n",
    "                pd.Series(data[col].iloc[movie_indices[i]+1:movie_indices[i+1]].values.flatten()) for col in data.columns\n",
    "            ]\n",
    "            \n",
    "            # append movie_id column \n",
    "            tobeConcatenated.append(\n",
    "                pd.Series([movie_ids[i] for j in range(movie_indices[i+1]-(movie_indices[i]+1))])\n",
    "            )\n",
    "            \n",
    "            # concatenate all columns\n",
    "            newData.append(pd.concat([\n",
    "                dataCol for dataCol in tobeConcatenated\n",
    "            ], axis=1))\n",
    "        else:\n",
    "            # append all columns except movie_id\n",
    "            tobeConcatenated = [\n",
    "                pd.Series(data[col].iloc[movie_indices[i]+1:data.shape[0]].values.flatten()) for col in data.columns\n",
    "            ]\n",
    "            \n",
    "            # append movie_id column \n",
    "            tobeConcatenated.append(pd.Series([movie_ids[i] for j in range(data.shape[0]-(movie_indices[i]+1))]))\n",
    "            \n",
    "            # concatenate all columns\n",
    "            newData.append(pd.concat([\n",
    "                dataCol for dataCol in tobeConcatenated\n",
    "            ], axis=1))\n",
    "            \n",
    "    # returning the concatenated data\n",
    "    concatenatedData = pd.concat(newData, ignore_index=True)\n",
    "    print(f\"Because the number of movie ids are {len(movie_ids)},\")\n",
    "    print(f\"so the number of concatenated data right now is:\")\n",
    "    print(f\"{data.shape[0]} (your data length) - {len(movie_ids)} (number of movie ids) = {concatenatedData.shape[0]}\")\n",
    "    withCols = {\n",
    "        data.columns[i]: concatenatedData[i] for i in range(len(data.columns))\n",
    "    }\n",
    "    withCols[\"Movie_Id\"] = concatenatedData.iloc[:, -1]\n",
    "    return pd.DataFrame(withCols)"
   ]
  },
  {
   "cell_type": "markdown",
   "id": "3216ff16",
   "metadata": {},
   "source": [
    "Down below are the before and after formating of dataset df."
   ]
  },
  {
   "cell_type": "code",
   "execution_count": 6,
   "id": "00af5d12",
   "metadata": {
    "ExecuteTime": {
     "end_time": "2022-12-31T06:55:22.007468Z",
     "start_time": "2022-12-31T06:55:18.000921Z"
    }
   },
   "outputs": [
    {
     "data": {
      "text/html": [
       "<div>\n",
       "<style scoped>\n",
       "    .dataframe tbody tr th:only-of-type {\n",
       "        vertical-align: middle;\n",
       "    }\n",
       "\n",
       "    .dataframe tbody tr th {\n",
       "        vertical-align: top;\n",
       "    }\n",
       "\n",
       "    .dataframe thead th {\n",
       "        text-align: right;\n",
       "    }\n",
       "</style>\n",
       "<table border=\"1\" class=\"dataframe\">\n",
       "  <thead>\n",
       "    <tr style=\"text-align: right;\">\n",
       "      <th></th>\n",
       "      <th>Cust_Id</th>\n",
       "      <th>Rating</th>\n",
       "    </tr>\n",
       "  </thead>\n",
       "  <tbody>\n",
       "    <tr>\n",
       "      <th>0</th>\n",
       "      <td>1:</td>\n",
       "      <td>NaN</td>\n",
       "    </tr>\n",
       "    <tr>\n",
       "      <th>1</th>\n",
       "      <td>1488844</td>\n",
       "      <td>3.0</td>\n",
       "    </tr>\n",
       "    <tr>\n",
       "      <th>2</th>\n",
       "      <td>822109</td>\n",
       "      <td>5.0</td>\n",
       "    </tr>\n",
       "    <tr>\n",
       "      <th>3</th>\n",
       "      <td>885013</td>\n",
       "      <td>4.0</td>\n",
       "    </tr>\n",
       "    <tr>\n",
       "      <th>4</th>\n",
       "      <td>30878</td>\n",
       "      <td>4.0</td>\n",
       "    </tr>\n",
       "    <tr>\n",
       "      <th>5</th>\n",
       "      <td>823519</td>\n",
       "      <td>3.0</td>\n",
       "    </tr>\n",
       "    <tr>\n",
       "      <th>6</th>\n",
       "      <td>893988</td>\n",
       "      <td>3.0</td>\n",
       "    </tr>\n",
       "    <tr>\n",
       "      <th>7</th>\n",
       "      <td>124105</td>\n",
       "      <td>4.0</td>\n",
       "    </tr>\n",
       "    <tr>\n",
       "      <th>8</th>\n",
       "      <td>1248029</td>\n",
       "      <td>3.0</td>\n",
       "    </tr>\n",
       "  </tbody>\n",
       "</table>\n",
       "</div>"
      ],
      "text/plain": [
       "   Cust_Id  Rating\n",
       "0       1:     NaN\n",
       "1  1488844     3.0\n",
       "2   822109     5.0\n",
       "3   885013     4.0\n",
       "4    30878     4.0\n",
       "5   823519     3.0\n",
       "6   893988     3.0\n",
       "7   124105     4.0\n",
       "8  1248029     3.0"
      ]
     },
     "execution_count": 6,
     "metadata": {},
     "output_type": "execute_result"
    }
   ],
   "source": [
    "df1_dataset.drop(\"Date\", axis=1).head(9)"
   ]
  },
  {
   "cell_type": "code",
   "execution_count": 7,
   "id": "a505bd06",
   "metadata": {
    "ExecuteTime": {
     "end_time": "2022-12-31T06:55:28.542196Z",
     "start_time": "2022-12-31T06:55:22.050612Z"
    }
   },
   "outputs": [
    {
     "name": "stdout",
     "output_type": "stream",
     "text": [
      "Because the number of movie ids are 30,\n",
      "so the number of concatenated data right now is:\n",
      "100000 (your data length) - 30 (number of movie ids) = 99970\n"
     ]
    },
    {
     "data": {
      "text/html": [
       "<div>\n",
       "<style scoped>\n",
       "    .dataframe tbody tr th:only-of-type {\n",
       "        vertical-align: middle;\n",
       "    }\n",
       "\n",
       "    .dataframe tbody tr th {\n",
       "        vertical-align: top;\n",
       "    }\n",
       "\n",
       "    .dataframe thead th {\n",
       "        text-align: right;\n",
       "    }\n",
       "</style>\n",
       "<table border=\"1\" class=\"dataframe\">\n",
       "  <thead>\n",
       "    <tr style=\"text-align: right;\">\n",
       "      <th></th>\n",
       "      <th>Cust_Id</th>\n",
       "      <th>Rating</th>\n",
       "      <th>Movie_Id</th>\n",
       "    </tr>\n",
       "  </thead>\n",
       "  <tbody>\n",
       "    <tr>\n",
       "      <th>0</th>\n",
       "      <td>1488844</td>\n",
       "      <td>3.0</td>\n",
       "      <td>1</td>\n",
       "    </tr>\n",
       "    <tr>\n",
       "      <th>1</th>\n",
       "      <td>822109</td>\n",
       "      <td>5.0</td>\n",
       "      <td>1</td>\n",
       "    </tr>\n",
       "    <tr>\n",
       "      <th>2</th>\n",
       "      <td>885013</td>\n",
       "      <td>4.0</td>\n",
       "      <td>1</td>\n",
       "    </tr>\n",
       "    <tr>\n",
       "      <th>3</th>\n",
       "      <td>30878</td>\n",
       "      <td>4.0</td>\n",
       "      <td>1</td>\n",
       "    </tr>\n",
       "    <tr>\n",
       "      <th>4</th>\n",
       "      <td>823519</td>\n",
       "      <td>3.0</td>\n",
       "      <td>1</td>\n",
       "    </tr>\n",
       "    <tr>\n",
       "      <th>...</th>\n",
       "      <td>...</td>\n",
       "      <td>...</td>\n",
       "      <td>...</td>\n",
       "    </tr>\n",
       "    <tr>\n",
       "      <th>99965</th>\n",
       "      <td>735848</td>\n",
       "      <td>4.0</td>\n",
       "      <td>30</td>\n",
       "    </tr>\n",
       "    <tr>\n",
       "      <th>99966</th>\n",
       "      <td>254710</td>\n",
       "      <td>4.0</td>\n",
       "      <td>30</td>\n",
       "    </tr>\n",
       "    <tr>\n",
       "      <th>99967</th>\n",
       "      <td>865725</td>\n",
       "      <td>4.0</td>\n",
       "      <td>30</td>\n",
       "    </tr>\n",
       "    <tr>\n",
       "      <th>99968</th>\n",
       "      <td>568153</td>\n",
       "      <td>3.0</td>\n",
       "      <td>30</td>\n",
       "    </tr>\n",
       "    <tr>\n",
       "      <th>99969</th>\n",
       "      <td>2502775</td>\n",
       "      <td>4.0</td>\n",
       "      <td>30</td>\n",
       "    </tr>\n",
       "  </tbody>\n",
       "</table>\n",
       "<p>99970 rows × 3 columns</p>\n",
       "</div>"
      ],
      "text/plain": [
       "       Cust_Id  Rating Movie_Id\n",
       "0      1488844     3.0        1\n",
       "1       822109     5.0        1\n",
       "2       885013     4.0        1\n",
       "3        30878     4.0        1\n",
       "4       823519     3.0        1\n",
       "...        ...     ...      ...\n",
       "99965   735848     4.0       30\n",
       "99966   254710     4.0       30\n",
       "99967   865725     4.0       30\n",
       "99968   568153     3.0       30\n",
       "99969  2502775     4.0       30\n",
       "\n",
       "[99970 rows x 3 columns]"
      ]
     },
     "execution_count": 7,
     "metadata": {},
     "output_type": "execute_result"
    }
   ],
   "source": [
    "df = repairFormat(df1_dataset.drop(\"Date\", axis=1).iloc[:100000, :])\n",
    "df"
   ]
  },
  {
   "cell_type": "markdown",
   "id": "03aa09ff",
   "metadata": {},
   "source": [
    "Down below are the before and after formating of dataset prb."
   ]
  },
  {
   "cell_type": "code",
   "execution_count": 8,
   "id": "186d753e",
   "metadata": {
    "ExecuteTime": {
     "end_time": "2022-12-31T06:55:28.583335Z",
     "start_time": "2022-12-31T06:55:28.556244Z"
    }
   },
   "outputs": [
    {
     "data": {
      "text/html": [
       "<div>\n",
       "<style scoped>\n",
       "    .dataframe tbody tr th:only-of-type {\n",
       "        vertical-align: middle;\n",
       "    }\n",
       "\n",
       "    .dataframe tbody tr th {\n",
       "        vertical-align: top;\n",
       "    }\n",
       "\n",
       "    .dataframe thead th {\n",
       "        text-align: right;\n",
       "    }\n",
       "</style>\n",
       "<table border=\"1\" class=\"dataframe\">\n",
       "  <thead>\n",
       "    <tr style=\"text-align: right;\">\n",
       "      <th></th>\n",
       "      <th>Cust_Id</th>\n",
       "    </tr>\n",
       "  </thead>\n",
       "  <tbody>\n",
       "    <tr>\n",
       "      <th>0</th>\n",
       "      <td>1:</td>\n",
       "    </tr>\n",
       "    <tr>\n",
       "      <th>1</th>\n",
       "      <td>30878</td>\n",
       "    </tr>\n",
       "    <tr>\n",
       "      <th>2</th>\n",
       "      <td>2647871</td>\n",
       "    </tr>\n",
       "    <tr>\n",
       "      <th>3</th>\n",
       "      <td>1283744</td>\n",
       "    </tr>\n",
       "    <tr>\n",
       "      <th>4</th>\n",
       "      <td>2488120</td>\n",
       "    </tr>\n",
       "    <tr>\n",
       "      <th>5</th>\n",
       "      <td>317050</td>\n",
       "    </tr>\n",
       "    <tr>\n",
       "      <th>6</th>\n",
       "      <td>1904905</td>\n",
       "    </tr>\n",
       "    <tr>\n",
       "      <th>7</th>\n",
       "      <td>1989766</td>\n",
       "    </tr>\n",
       "    <tr>\n",
       "      <th>8</th>\n",
       "      <td>14756</td>\n",
       "    </tr>\n",
       "  </tbody>\n",
       "</table>\n",
       "</div>"
      ],
      "text/plain": [
       "   Cust_Id\n",
       "0       1:\n",
       "1    30878\n",
       "2  2647871\n",
       "3  1283744\n",
       "4  2488120\n",
       "5   317050\n",
       "6  1904905\n",
       "7  1989766\n",
       "8    14756"
      ]
     },
     "execution_count": 8,
     "metadata": {},
     "output_type": "execute_result"
    }
   ],
   "source": [
    "prb_dataset.head(9)"
   ]
  },
  {
   "cell_type": "code",
   "execution_count": 9,
   "id": "1e704198",
   "metadata": {
    "ExecuteTime": {
     "end_time": "2022-12-31T06:55:31.139037Z",
     "start_time": "2022-12-31T06:55:28.596383Z"
    }
   },
   "outputs": [
    {
     "name": "stdout",
     "output_type": "stream",
     "text": [
      "Because the number of movie ids are 1354,\n",
      "so the number of concatenated data right now is:\n",
      "100000 (your data length) - 1354 (number of movie ids) = 98646\n"
     ]
    },
    {
     "data": {
      "text/html": [
       "<div>\n",
       "<style scoped>\n",
       "    .dataframe tbody tr th:only-of-type {\n",
       "        vertical-align: middle;\n",
       "    }\n",
       "\n",
       "    .dataframe tbody tr th {\n",
       "        vertical-align: top;\n",
       "    }\n",
       "\n",
       "    .dataframe thead th {\n",
       "        text-align: right;\n",
       "    }\n",
       "</style>\n",
       "<table border=\"1\" class=\"dataframe\">\n",
       "  <thead>\n",
       "    <tr style=\"text-align: right;\">\n",
       "      <th></th>\n",
       "      <th>Cust_Id</th>\n",
       "      <th>Movie_Id</th>\n",
       "    </tr>\n",
       "  </thead>\n",
       "  <tbody>\n",
       "    <tr>\n",
       "      <th>0</th>\n",
       "      <td>30878</td>\n",
       "      <td>1</td>\n",
       "    </tr>\n",
       "    <tr>\n",
       "      <th>1</th>\n",
       "      <td>2647871</td>\n",
       "      <td>1</td>\n",
       "    </tr>\n",
       "    <tr>\n",
       "      <th>2</th>\n",
       "      <td>1283744</td>\n",
       "      <td>1</td>\n",
       "    </tr>\n",
       "    <tr>\n",
       "      <th>3</th>\n",
       "      <td>2488120</td>\n",
       "      <td>1</td>\n",
       "    </tr>\n",
       "    <tr>\n",
       "      <th>4</th>\n",
       "      <td>317050</td>\n",
       "      <td>1</td>\n",
       "    </tr>\n",
       "    <tr>\n",
       "      <th>...</th>\n",
       "      <td>...</td>\n",
       "      <td>...</td>\n",
       "    </tr>\n",
       "    <tr>\n",
       "      <th>98641</th>\n",
       "      <td>2397845</td>\n",
       "      <td>11283</td>\n",
       "    </tr>\n",
       "    <tr>\n",
       "      <th>98642</th>\n",
       "      <td>2470650</td>\n",
       "      <td>11283</td>\n",
       "    </tr>\n",
       "    <tr>\n",
       "      <th>98643</th>\n",
       "      <td>1256650</td>\n",
       "      <td>11283</td>\n",
       "    </tr>\n",
       "    <tr>\n",
       "      <th>98644</th>\n",
       "      <td>269304</td>\n",
       "      <td>11283</td>\n",
       "    </tr>\n",
       "    <tr>\n",
       "      <th>98645</th>\n",
       "      <td>775026</td>\n",
       "      <td>11283</td>\n",
       "    </tr>\n",
       "  </tbody>\n",
       "</table>\n",
       "<p>98646 rows × 2 columns</p>\n",
       "</div>"
      ],
      "text/plain": [
       "       Cust_Id Movie_Id\n",
       "0        30878        1\n",
       "1      2647871        1\n",
       "2      1283744        1\n",
       "3      2488120        1\n",
       "4       317050        1\n",
       "...        ...      ...\n",
       "98641  2397845    11283\n",
       "98642  2470650    11283\n",
       "98643  1256650    11283\n",
       "98644   269304    11283\n",
       "98645   775026    11283\n",
       "\n",
       "[98646 rows x 2 columns]"
      ]
     },
     "execution_count": 9,
     "metadata": {},
     "output_type": "execute_result"
    }
   ],
   "source": [
    "prb = repairFormat(prb_dataset.iloc[:100000, :])\n",
    "prb"
   ]
  },
  {
   "cell_type": "markdown",
   "id": "b2e9418b",
   "metadata": {},
   "source": [
    "Down below are the before and after formating of dataset qlf."
   ]
  },
  {
   "cell_type": "code",
   "execution_count": 10,
   "id": "b35fe5fe",
   "metadata": {
    "ExecuteTime": {
     "end_time": "2022-12-31T06:55:31.652328Z",
     "start_time": "2022-12-31T06:55:31.146058Z"
    }
   },
   "outputs": [
    {
     "data": {
      "text/html": [
       "<div>\n",
       "<style scoped>\n",
       "    .dataframe tbody tr th:only-of-type {\n",
       "        vertical-align: middle;\n",
       "    }\n",
       "\n",
       "    .dataframe tbody tr th {\n",
       "        vertical-align: top;\n",
       "    }\n",
       "\n",
       "    .dataframe thead th {\n",
       "        text-align: right;\n",
       "    }\n",
       "</style>\n",
       "<table border=\"1\" class=\"dataframe\">\n",
       "  <thead>\n",
       "    <tr style=\"text-align: right;\">\n",
       "      <th></th>\n",
       "      <th>Cust_Id</th>\n",
       "    </tr>\n",
       "  </thead>\n",
       "  <tbody>\n",
       "    <tr>\n",
       "      <th>0</th>\n",
       "      <td>1:</td>\n",
       "    </tr>\n",
       "    <tr>\n",
       "      <th>1</th>\n",
       "      <td>1046323</td>\n",
       "    </tr>\n",
       "    <tr>\n",
       "      <th>2</th>\n",
       "      <td>1080030</td>\n",
       "    </tr>\n",
       "    <tr>\n",
       "      <th>3</th>\n",
       "      <td>1830096</td>\n",
       "    </tr>\n",
       "    <tr>\n",
       "      <th>4</th>\n",
       "      <td>368059</td>\n",
       "    </tr>\n",
       "    <tr>\n",
       "      <th>5</th>\n",
       "      <td>802003</td>\n",
       "    </tr>\n",
       "    <tr>\n",
       "      <th>6</th>\n",
       "      <td>513509</td>\n",
       "    </tr>\n",
       "    <tr>\n",
       "      <th>7</th>\n",
       "      <td>1086137</td>\n",
       "    </tr>\n",
       "    <tr>\n",
       "      <th>8</th>\n",
       "      <td>428698</td>\n",
       "    </tr>\n",
       "  </tbody>\n",
       "</table>\n",
       "</div>"
      ],
      "text/plain": [
       "   Cust_Id\n",
       "0       1:\n",
       "1  1046323\n",
       "2  1080030\n",
       "3  1830096\n",
       "4   368059\n",
       "5   802003\n",
       "6   513509\n",
       "7  1086137\n",
       "8   428698"
      ]
     },
     "execution_count": 10,
     "metadata": {},
     "output_type": "execute_result"
    }
   ],
   "source": [
    "qlf_dataset.drop(\"Date\", axis=1).head(9)"
   ]
  },
  {
   "cell_type": "code",
   "execution_count": 11,
   "id": "fc259945",
   "metadata": {
    "ExecuteTime": {
     "end_time": "2022-12-31T06:55:33.973670Z",
     "start_time": "2022-12-31T06:55:31.657347Z"
    }
   },
   "outputs": [
    {
     "name": "stdout",
     "output_type": "stream",
     "text": [
      "Because the number of movie ids are 796,\n",
      "so the number of concatenated data right now is:\n",
      "100000 (your data length) - 796 (number of movie ids) = 99204\n"
     ]
    },
    {
     "data": {
      "text/html": [
       "<div>\n",
       "<style scoped>\n",
       "    .dataframe tbody tr th:only-of-type {\n",
       "        vertical-align: middle;\n",
       "    }\n",
       "\n",
       "    .dataframe tbody tr th {\n",
       "        vertical-align: top;\n",
       "    }\n",
       "\n",
       "    .dataframe thead th {\n",
       "        text-align: right;\n",
       "    }\n",
       "</style>\n",
       "<table border=\"1\" class=\"dataframe\">\n",
       "  <thead>\n",
       "    <tr style=\"text-align: right;\">\n",
       "      <th></th>\n",
       "      <th>Cust_Id</th>\n",
       "      <th>Movie_Id</th>\n",
       "    </tr>\n",
       "  </thead>\n",
       "  <tbody>\n",
       "    <tr>\n",
       "      <th>0</th>\n",
       "      <td>1046323</td>\n",
       "      <td>1</td>\n",
       "    </tr>\n",
       "    <tr>\n",
       "      <th>1</th>\n",
       "      <td>1080030</td>\n",
       "      <td>1</td>\n",
       "    </tr>\n",
       "    <tr>\n",
       "      <th>2</th>\n",
       "      <td>1830096</td>\n",
       "      <td>1</td>\n",
       "    </tr>\n",
       "    <tr>\n",
       "      <th>3</th>\n",
       "      <td>368059</td>\n",
       "      <td>1</td>\n",
       "    </tr>\n",
       "    <tr>\n",
       "      <th>4</th>\n",
       "      <td>802003</td>\n",
       "      <td>1</td>\n",
       "    </tr>\n",
       "    <tr>\n",
       "      <th>...</th>\n",
       "      <td>...</td>\n",
       "      <td>...</td>\n",
       "    </tr>\n",
       "    <tr>\n",
       "      <th>99199</th>\n",
       "      <td>992857</td>\n",
       "      <td>10730</td>\n",
       "    </tr>\n",
       "    <tr>\n",
       "      <th>99200</th>\n",
       "      <td>2152902</td>\n",
       "      <td>10730</td>\n",
       "    </tr>\n",
       "    <tr>\n",
       "      <th>99201</th>\n",
       "      <td>2268208</td>\n",
       "      <td>10730</td>\n",
       "    </tr>\n",
       "    <tr>\n",
       "      <th>99202</th>\n",
       "      <td>884439</td>\n",
       "      <td>10730</td>\n",
       "    </tr>\n",
       "    <tr>\n",
       "      <th>99203</th>\n",
       "      <td>558955</td>\n",
       "      <td>10730</td>\n",
       "    </tr>\n",
       "  </tbody>\n",
       "</table>\n",
       "<p>99204 rows × 2 columns</p>\n",
       "</div>"
      ],
      "text/plain": [
       "       Cust_Id Movie_Id\n",
       "0      1046323        1\n",
       "1      1080030        1\n",
       "2      1830096        1\n",
       "3       368059        1\n",
       "4       802003        1\n",
       "...        ...      ...\n",
       "99199   992857    10730\n",
       "99200  2152902    10730\n",
       "99201  2268208    10730\n",
       "99202   884439    10730\n",
       "99203   558955    10730\n",
       "\n",
       "[99204 rows x 2 columns]"
      ]
     },
     "execution_count": 11,
     "metadata": {},
     "output_type": "execute_result"
    }
   ],
   "source": [
    "qlf = repairFormat(qlf_dataset.drop(\"Date\", axis=1).iloc[:100000, :])\n",
    "qlf"
   ]
  },
  {
   "cell_type": "markdown",
   "id": "51e8c9eb",
   "metadata": {},
   "source": [
    "But, for the convenience of processing the data, I think it is better for us to convert all number data to be integer as there are some of library functions that need number type of data."
   ]
  },
  {
   "cell_type": "code",
   "execution_count": 18,
   "id": "9e7cb8a2",
   "metadata": {},
   "outputs": [],
   "source": [
    "df = df.astype(\"int32\")\n",
    "prb = prb.astype(\"int32\")\n",
    "qlf = qlf.astype(\"int32\")"
   ]
  },
  {
   "cell_type": "code",
   "execution_count": null,
   "id": "fd2b707b",
   "metadata": {},
   "outputs": [],
   "source": []
  },
  {
   "cell_type": "code",
   "execution_count": null,
   "id": "0285c711",
   "metadata": {},
   "outputs": [],
   "source": []
  },
  {
   "cell_type": "markdown",
   "id": "2db05355",
   "metadata": {},
   "source": [
    "# Data Cleaning "
   ]
  },
  {
   "cell_type": "markdown",
   "id": "11c68a6f",
   "metadata": {},
   "source": [
    "Right now, once we have converted the format, the first thing we are going to do is to clean the data.\n",
    "<br><br>\n",
    "Down below is a function that requires a dataset in order to return the number of null values, its number of unique elements, and its number of duplicated values."
   ]
  },
  {
   "cell_type": "code",
   "execution_count": 12,
   "id": "26e7ebba",
   "metadata": {
    "ExecuteTime": {
     "end_time": "2022-12-31T06:55:34.014809Z",
     "start_time": "2022-12-31T06:55:33.989723Z"
    }
   },
   "outputs": [],
   "source": [
    "def dirty_check(df):\n",
    "    for col in df.columns:\n",
    "        print(f\"{col} has {df[col].isnull().sum()} null values.\")\n",
    "        print(f\"{col} has {df[col].nunique()} unique elements.\\n\")\n",
    "        \n",
    "    evaluatedColumn = [\"Cust_Id\", \"Movie_Id\"]\n",
    "    print(f\"This dataset has {df.duplicated(evaluatedColumn).sum()} duplicated values\")"
   ]
  },
  {
   "cell_type": "code",
   "execution_count": 13,
   "id": "3cab490d",
   "metadata": {
    "ExecuteTime": {
     "end_time": "2022-12-31T06:55:34.415177Z",
     "start_time": "2022-12-31T06:55:34.017817Z"
    }
   },
   "outputs": [
    {
     "name": "stdout",
     "output_type": "stream",
     "text": [
      "- - - Dirty Check on dataset df - - -\n",
      "\n",
      "Cust_Id has 0 null values.\n",
      "Cust_Id has 81472 unique elements.\n",
      "\n",
      "Rating has 0 null values.\n",
      "Rating has 5 unique elements.\n",
      "\n",
      "Movie_Id has 0 null values.\n",
      "Movie_Id has 30 unique elements.\n",
      "\n",
      "This dataset has 0 duplicated values\n",
      "\n",
      "\n",
      "\n",
      "\n",
      "- - - Dirty Check on dataset prb - - -\n",
      "\n",
      "Cust_Id has 0 null values.\n",
      "Cust_Id has 89091 unique elements.\n",
      "\n",
      "Movie_Id has 0 null values.\n",
      "Movie_Id has 1354 unique elements.\n",
      "\n",
      "This dataset has 0 duplicated values\n",
      "\n",
      "\n",
      "\n",
      "\n",
      "- - - Dirty Check on dataset qlf - - -\n",
      "\n",
      "Cust_Id has 0 null values.\n",
      "Cust_Id has 90269 unique elements.\n",
      "\n",
      "Movie_Id has 0 null values.\n",
      "Movie_Id has 796 unique elements.\n",
      "\n",
      "This dataset has 0 duplicated values\n"
     ]
    }
   ],
   "source": [
    "print(\"- - - Dirty Check on dataset df - - -\\n\")\n",
    "dirty_check(df)\n",
    "print()\n",
    "print()\n",
    "print()\n",
    "print()\n",
    "\n",
    "print(\"- - - Dirty Check on dataset prb - - -\\n\")\n",
    "dirty_check(prb)\n",
    "print()\n",
    "print()\n",
    "print()\n",
    "print()\n",
    "\n",
    "print(\"- - - Dirty Check on dataset qlf - - -\\n\")\n",
    "dirty_check(qlf)"
   ]
  },
  {
   "cell_type": "markdown",
   "id": "dcdb757e",
   "metadata": {},
   "source": [
    "From the result shown above, I think all the datasets are clear to go, as we can see that for each dataset come up with good result, such as 0 number of null values."
   ]
  },
  {
   "cell_type": "code",
   "execution_count": null,
   "id": "e6423f93",
   "metadata": {},
   "outputs": [],
   "source": []
  },
  {
   "cell_type": "code",
   "execution_count": null,
   "id": "fe925d5c",
   "metadata": {},
   "outputs": [],
   "source": []
  },
  {
   "cell_type": "code",
   "execution_count": null,
   "id": "fdba33a5",
   "metadata": {},
   "outputs": [],
   "source": []
  },
  {
   "cell_type": "markdown",
   "id": "4267f73c",
   "metadata": {},
   "source": [
    "# Data Training and Fitting"
   ]
  },
  {
   "cell_type": "markdown",
   "id": "71eafa99",
   "metadata": {},
   "source": [
    "In this process, we will train our data and evaluate the best number of components (dimensionality reduction) to be used, in order to get highest accuracy.\n",
    "<br><br>\n",
    "From the code shown below, we define two functions, first is used to give us accuracy, and second is to give us a visualization using boxplot (to determine best number of components to be used). "
   ]
  },
  {
   "cell_type": "code",
   "execution_count": 16,
   "id": "0d155efd",
   "metadata": {
    "ExecuteTime": {
     "end_time": "2022-12-31T08:36:19.813809Z",
     "start_time": "2022-12-31T08:36:19.701165Z"
    }
   },
   "outputs": [],
   "source": [
    "def getAccuracy(\n",
    "    X, y, nc=2,\n",
    "    model=LogisticRegression(), cv=RepeatedStratifiedKFold(n_splits=9, n_repeats=3, random_state=99), \n",
    "    scoring='accuracy'\n",
    "):    \n",
    "    # define pipeline\n",
    "    pipeline = Pipeline(steps=[\n",
    "        ('svd', TruncatedSVD(n_components=nc)), ('m', model)\n",
    "    ])\n",
    "    n_scores = abs(cross_val_score(pipeline, X, y, cv=cv, scoring=scoring, n_jobs=-1))\n",
    "    \n",
    "    return np.mean(n_scores), np.std(n_scores), n_scores\n",
    "\n",
    "\n",
    "def showBoxplot(data, showmeans=True, title=None):\n",
    "    plt.figure(figsize=(15,9))\n",
    "    sns.boxplot(\n",
    "        data,\n",
    "        showmeans=showmeans,\n",
    "        meanprops={\"marker\":\"o\",\n",
    "                       \"markerfacecolor\":\"white\", \n",
    "                       \"markeredgecolor\":\"black\",\n",
    "                      \"markersize\":\"10\"},\n",
    "        palette=\"Blues\",\n",
    "    ).set(title=title)"
   ]
  },
  {
   "cell_type": "markdown",
   "id": "3f29d84d",
   "metadata": {},
   "source": [
    "But, what are the components? The columns? The number is so small!! The answer is we can claim some inputs using csr_matrix as the data we use is sparse data.\n",
    "<br><br>\n",
    "So, the code shown below is proposed to return a sparse matrix."
   ]
  },
  {
   "cell_type": "code",
   "execution_count": 19,
   "id": "46703d8f",
   "metadata": {
    "ExecuteTime": {
     "end_time": "2022-12-31T08:26:43.270086Z",
     "start_time": "2022-12-31T08:26:43.204871Z"
    }
   },
   "outputs": [
    {
     "name": "stdout",
     "output_type": "stream",
     "text": [
      "The shape of the sparse matrix is: (99970, 31)\n",
      "While, the sparsity is: 96.7741935483871%\n"
     ]
    }
   ],
   "source": [
    "dfSparse = csr_matrix((df.Rating.values, ([i for i in range (df.shape[0])], df.Movie_Id.values)))\n",
    "\n",
    "\n",
    "print(f\"The shape of the sparse matrix is: {dfSparse.shape}\")\n",
    "us, mv = dfSparse.shape\n",
    "elem = dfSparse.count_nonzero()\n",
    "\n",
    "print(f\"While, the sparsity is: {(  (1-(elem/(us*mv))) * 100)}%\")"
   ]
  },
  {
   "cell_type": "markdown",
   "id": "8f3c12a1",
   "metadata": {},
   "source": [
    "Right now, because the number of columns (components) are 31, we will test the accuracy given by using 1 to 31 number of components. "
   ]
  },
  {
   "cell_type": "code",
   "execution_count": 20,
   "id": "a9fc4189",
   "metadata": {
    "ExecuteTime": {
     "end_time": "2022-12-31T08:36:19.671103Z",
     "start_time": "2022-12-31T08:30:49.675828Z"
    }
   },
   "outputs": [
    {
     "name": "stdout",
     "output_type": "stream",
     "text": [
      "By using 1 component, we get:\n",
      "Accuracy: 0.4442532531899364\n",
      "Std: 0.0035540338376746873\n",
      "\n",
      "By using 2 components, we get:\n",
      "Accuracy: 0.4362208648696837\n",
      "Std: 0.0037893188213222718\n",
      "\n",
      "By using 3 components, we get:\n",
      "Accuracy: 0.47527259344750017\n",
      "Std: 0.0035529140975650015\n",
      "\n",
      "By using 4 components, we get:\n",
      "Accuracy: 0.5378013430567677\n",
      "Std: 0.003265992427139055\n",
      "\n",
      "By using 5 components, we get:\n",
      "Accuracy: 0.5378013430567677\n",
      "Std: 0.003265992427139055\n",
      "\n",
      "By using 6 components, we get:\n",
      "Accuracy: 0.5458437566924369\n",
      "Std: 0.0032551031865054435\n",
      "\n",
      "By using 7 components, we get:\n",
      "Accuracy: 0.580140898981741\n",
      "Std: 0.019369457360520936\n",
      "\n",
      "By using 8 components, we get:\n",
      "Accuracy: 0.5817845382770018\n",
      "Std: 0.00284591797461158\n",
      "\n",
      "By using 9 components, we get:\n",
      "Accuracy: 0.6409990484740068\n",
      "Std: 0.009336416569986907\n",
      "\n",
      "By using 10 components, we get:\n",
      "Accuracy: 0.7795338707562826\n",
      "Std: 0.0019071654136533576\n",
      "\n",
      "By using 11 components, we get:\n",
      "Accuracy: 0.7888266615075379\n",
      "Std: 0.00170646149162265\n",
      "\n",
      "By using 12 components, we get:\n",
      "Accuracy: 0.7998399523055797\n",
      "Std: 0.0015787759542793256\n",
      "\n",
      "By using 13 components, we get:\n",
      "Accuracy: 0.8049448173389875\n",
      "Std: 0.0017087896529284386\n",
      "\n",
      "By using 14 components, we get:\n",
      "Accuracy: 0.8097862671798097\n",
      "Std: 0.0014922161378047522\n",
      "\n",
      "By using 15 components, we get:\n",
      "Accuracy: 0.81440431693372\n",
      "Std: 0.0015658630200844769\n",
      "\n",
      "By using 16 components, we get:\n",
      "Accuracy: 0.8917907373897828\n",
      "Std: 0.007304744426850431\n",
      "\n",
      "By using 17 components, we get:\n",
      "Accuracy: 0.9139608236490304\n",
      "Std: 0.0038219636780881276\n",
      "\n",
      "By using 18 components, we get:\n",
      "Accuracy: 0.9621719897122949\n",
      "Std: 0.0015404187157340699\n",
      "\n",
      "By using 19 components, we get:\n",
      "Accuracy: 0.9835783958585863\n",
      "Std: 0.001284416306246343\n",
      "\n",
      "By using 20 components, we get:\n",
      "Accuracy: 0.9872928499689406\n",
      "Std: 0.000917085630893213\n",
      "\n",
      "By using 21 components, we get:\n",
      "Accuracy: 0.9896102096126304\n",
      "Std: 0.0007052649066860105\n",
      "\n",
      "By using 22 components, we get:\n",
      "Accuracy: 0.9909406106354659\n",
      "Std: 0.0007228317925590669\n",
      "\n",
      "By using 23 components, we get:\n",
      "Accuracy: 0.992391046168297\n",
      "Std: 0.0007141406417196957\n",
      "\n",
      "By using 24 components, we get:\n",
      "Accuracy: 0.9939981943481134\n",
      "Std: 0.0006199159417813043\n",
      "\n",
      "By using 25 components, we get:\n",
      "Accuracy: 0.9948084350206096\n",
      "Std: 0.000621375628427252\n",
      "\n",
      "By using 26 components, we get:\n",
      "Accuracy: 0.9958320804841111\n",
      "Std: 0.0005367276189279412\n",
      "\n",
      "By using 27 components, we get:\n",
      "Accuracy: 0.9968490508094645\n",
      "Std: 0.000620853231427299\n",
      "\n",
      "By using 28 components, we get:\n",
      "Accuracy: 0.998122767193157\n",
      "Std: 0.0003471368060523265\n",
      "\n",
      "By using 29 components, we get:\n",
      "Accuracy: 0.9986562586073064\n",
      "Std: 0.0003558745101533537\n",
      "\n",
      "By using 30 components, we get:\n",
      "Accuracy: 0.9990197012073438\n",
      "Std: 0.00035026304332817977\n",
      "\n",
      "By using 31 components, we get:\n",
      "Accuracy: 0.9990197012073438\n",
      "Std: 0.00035026304332817977\n",
      "\n"
     ]
    }
   ],
   "source": [
    "results = []\n",
    "for i in range(1, 32):\n",
    "    theAccuracy = getAccuracy(\n",
    "            dfSparse,\n",
    "            df[\"Rating\"], \n",
    "            nc=i\n",
    "    )\n",
    "    results.append(\n",
    "        theAccuracy\n",
    "    )\n",
    "    \n",
    "    if i != 1:\n",
    "        print(f\"By using {i} components, we get:\")\n",
    "    else:\n",
    "        print(f\"By using {i} component, we get:\")\n",
    "        \n",
    "    print(f\"Accuracy: {theAccuracy[0]}\")\n",
    "    print(f\"Std: {theAccuracy[1]}\\n\")"
   ]
  },
  {
   "cell_type": "markdown",
   "id": "c8dd3881",
   "metadata": {},
   "source": [
    "We will now visualize the results using boxplot.\n",
    "<br><br>\n",
    "From the graph shown below, we can see that from $x=19$ to $x=31$ the fluctuation range is not as extreme as other x's. In this case, I will just choose $x=27$, which is in the middle range for the predicting process."
   ]
  },
  {
   "cell_type": "code",
   "execution_count": 22,
   "id": "36f771a9",
   "metadata": {
    "ExecuteTime": {
     "end_time": "2022-12-31T08:36:20.472816Z",
     "start_time": "2022-12-31T08:36:19.867990Z"
    }
   },
   "outputs": [
    {
     "data": {
      "image/png": "[encoded data removed]",
      "text/plain": [
       "<Figure size 1080x648 with 1 Axes>"
      ]
     },
     "metadata": {
      "needs_background": "light"
     },
     "output_type": "display_data"
    }
   ],
   "source": [
    "customDataPoly = pd.DataFrame({\n",
    "    str(i+1): results[i][-1] for i in range(len(results))\n",
    "})\n",
    "\n",
    "showBoxplot(customDataPoly, title=\"Polynomial Transform\")"
   ]
  },
  {
   "cell_type": "code",
   "execution_count": null,
   "id": "d21eb4df",
   "metadata": {},
   "outputs": [],
   "source": []
  },
  {
   "cell_type": "code",
   "execution_count": null,
   "id": "75a0df0d",
   "metadata": {},
   "outputs": [],
   "source": []
  },
  {
   "cell_type": "code",
   "execution_count": null,
   "id": "74b0a9f3",
   "metadata": {},
   "outputs": [],
   "source": []
  },
  {
   "cell_type": "markdown",
   "id": "2f41bf13",
   "metadata": {},
   "source": [
    "# Predicting and RMSE Score"
   ]
  },
  {
   "cell_type": "markdown",
   "id": "8c181533",
   "metadata": {},
   "source": [
    "Now, for the last process, once we have determined the best number of components to be used, we will do predicting, and then calculating our RMSE in order to measure the accuracy.\n",
    "<br><br>\n",
    "But, before we go to that process, we still have to sparse our test data, which is in this case we will just use some number of data from the very last.\n"
   ]
  },
  {
   "cell_type": "code",
   "execution_count": 49,
   "id": "89f5775c",
   "metadata": {},
   "outputs": [
    {
     "name": "stdout",
     "output_type": "stream",
     "text": [
      "Because the number of movie ids are 20,\n",
      "so the number of concatenated data right now is:\n",
      "100000 (your data length) - 20 (number of movie ids) = 80532\n"
     ]
    },
    {
     "data": {
      "text/html": [
       "<div>\n",
       "<style scoped>\n",
       "    .dataframe tbody tr th:only-of-type {\n",
       "        vertical-align: middle;\n",
       "    }\n",
       "\n",
       "    .dataframe tbody tr th {\n",
       "        vertical-align: top;\n",
       "    }\n",
       "\n",
       "    .dataframe thead th {\n",
       "        text-align: right;\n",
       "    }\n",
       "</style>\n",
       "<table border=\"1\" class=\"dataframe\">\n",
       "  <thead>\n",
       "    <tr style=\"text-align: right;\">\n",
       "      <th></th>\n",
       "      <th>Cust_Id</th>\n",
       "      <th>Rating</th>\n",
       "      <th>Movie_Id</th>\n",
       "    </tr>\n",
       "  </thead>\n",
       "  <tbody>\n",
       "    <tr>\n",
       "      <th>0</th>\n",
       "      <td>1488844</td>\n",
       "      <td>3</td>\n",
       "      <td>1</td>\n",
       "    </tr>\n",
       "    <tr>\n",
       "      <th>1</th>\n",
       "      <td>822109</td>\n",
       "      <td>5</td>\n",
       "      <td>1</td>\n",
       "    </tr>\n",
       "    <tr>\n",
       "      <th>2</th>\n",
       "      <td>885013</td>\n",
       "      <td>4</td>\n",
       "      <td>1</td>\n",
       "    </tr>\n",
       "    <tr>\n",
       "      <th>3</th>\n",
       "      <td>30878</td>\n",
       "      <td>4</td>\n",
       "      <td>1</td>\n",
       "    </tr>\n",
       "    <tr>\n",
       "      <th>4</th>\n",
       "      <td>823519</td>\n",
       "      <td>3</td>\n",
       "      <td>1</td>\n",
       "    </tr>\n",
       "    <tr>\n",
       "      <th>...</th>\n",
       "      <td>...</td>\n",
       "      <td>...</td>\n",
       "      <td>...</td>\n",
       "    </tr>\n",
       "    <tr>\n",
       "      <th>99965</th>\n",
       "      <td>735848</td>\n",
       "      <td>4</td>\n",
       "      <td>30</td>\n",
       "    </tr>\n",
       "    <tr>\n",
       "      <th>99966</th>\n",
       "      <td>254710</td>\n",
       "      <td>4</td>\n",
       "      <td>30</td>\n",
       "    </tr>\n",
       "    <tr>\n",
       "      <th>99967</th>\n",
       "      <td>865725</td>\n",
       "      <td>4</td>\n",
       "      <td>30</td>\n",
       "    </tr>\n",
       "    <tr>\n",
       "      <th>99968</th>\n",
       "      <td>568153</td>\n",
       "      <td>3</td>\n",
       "      <td>30</td>\n",
       "    </tr>\n",
       "    <tr>\n",
       "      <th>99969</th>\n",
       "      <td>2502775</td>\n",
       "      <td>4</td>\n",
       "      <td>30</td>\n",
       "    </tr>\n",
       "  </tbody>\n",
       "</table>\n",
       "<p>99970 rows × 3 columns</p>\n",
       "</div>"
      ],
      "text/plain": [
       "       Cust_Id  Rating  Movie_Id\n",
       "0      1488844       3         1\n",
       "1       822109       5         1\n",
       "2       885013       4         1\n",
       "3        30878       4         1\n",
       "4       823519       3         1\n",
       "...        ...     ...       ...\n",
       "99965   735848       4        30\n",
       "99966   254710       4        30\n",
       "99967   865725       4        30\n",
       "99968   568153       3        30\n",
       "99969  2502775       4        30\n",
       "\n",
       "[99970 rows x 3 columns]"
      ]
     },
     "execution_count": 49,
     "metadata": {},
     "output_type": "execute_result"
    }
   ],
   "source": [
    "dfTest = repairFormat(df1_dataset.drop(\"Date\", axis=1).iloc[-100000:, :].reset_index())\n",
    "dfTest.drop(\"index\", axis=1, inplace=True)\n",
    "dfTest = df.astype('int32')\n",
    "dfTest"
   ]
  },
  {
   "cell_type": "markdown",
   "id": "b063f9d9",
   "metadata": {},
   "source": [
    "Then, because in the end we will try to get our RMSE, so we have to gather the Y (rating) values."
   ]
  },
  {
   "cell_type": "code",
   "execution_count": 58,
   "id": "643d6af4",
   "metadata": {},
   "outputs": [
    {
     "data": {
      "text/plain": [
       "array([3, 5, 4, ..., 4, 3, 4])"
      ]
     },
     "execution_count": 58,
     "metadata": {},
     "output_type": "execute_result"
    }
   ],
   "source": [
    "actual = dfTest.Rating.values\n",
    "actual"
   ]
  },
  {
   "cell_type": "markdown",
   "id": "3fbce590",
   "metadata": {},
   "source": [
    "In predicting, of course we need the input of predicting data, so right now we have to sparse our dfTest data."
   ]
  },
  {
   "cell_type": "code",
   "execution_count": 51,
   "id": "3afdbb1d",
   "metadata": {},
   "outputs": [
    {
     "name": "stdout",
     "output_type": "stream",
     "text": [
      "The shape of the sparse matrix is: (99970, 31)\n",
      "While, the sparsity is: 96.7741935483871%\n"
     ]
    }
   ],
   "source": [
    "dfTestSparse = csr_matrix((dfTest.Rating.values, ([i for i in range (dfTest.shape[0])], dfTest.Movie_Id.values)))\n",
    "\n",
    "\n",
    "print(f\"The shape of the sparse matrix is: {dfTestSparse.shape}\")\n",
    "us, mv = dfTestSparse.shape\n",
    "elem = dfTestSparse.count_nonzero()\n",
    "\n",
    "print(f\"While, the sparsity is: {(  (1-(elem/(us*mv))) * 100)}%\")"
   ]
  },
  {
   "cell_type": "markdown",
   "id": "ed1a466e",
   "metadata": {},
   "source": [
    "Predicting. . . which then we get an array contains the Y (rating) values generated from the process."
   ]
  },
  {
   "cell_type": "code",
   "execution_count": 62,
   "id": "6d8f7b44",
   "metadata": {
    "ExecuteTime": {
     "start_time": "2022-12-30T08:47:44.255Z"
    }
   },
   "outputs": [
    {
     "name": "stdout",
     "output_type": "stream",
     "text": [
      "Predicted Result: \n",
      "[3 5 4 ... 4 3 4]\n"
     ]
    },
    {
     "name": "stderr",
     "output_type": "stream",
     "text": [
      "C:\\Users\\Jason Caleb\\AppData\\Local\\Programs\\Python\\Python310\\lib\\site-packages\\sklearn\\linear_model\\_logistic.py:444: ConvergenceWarning: lbfgs failed to converge (status=1):\n",
      "STOP: TOTAL NO. of ITERATIONS REACHED LIMIT.\n",
      "\n",
      "Increase the number of iterations (max_iter) or scale the data as shown in:\n",
      "    https://scikit-learn.org/stable/modules/preprocessing.html\n",
      "Please also refer to the documentation for alternative solver options:\n",
      "    https://scikit-learn.org/stable/modules/linear_model.html#logistic-regression\n",
      "  n_iter_i = _check_optimize_result(\n"
     ]
    }
   ],
   "source": [
    "X, y = dfSparse, df[\"Rating\"]\n",
    "\n",
    "# define the model\n",
    "steps = [('svd', TruncatedSVD(n_components=27)), ('m', LogisticRegression())]\n",
    "model = Pipeline(steps=steps)\n",
    "\n",
    "# fit the model on the whole dataset\n",
    "model.fit(X, y)\n",
    "\n",
    "# make a single prediction\n",
    "row = dfTestSparse\n",
    "yhat = model.predict(row)\n",
    "print(f'Predicted Result: \\n{yhat}')"
   ]
  },
  {
   "cell_type": "markdown",
   "id": "069de708",
   "metadata": {},
   "source": [
    "Right now, for the last process, we will evaluate our predicting model by calculating our RMSE score."
   ]
  },
  {
   "cell_type": "code",
   "execution_count": 61,
   "id": "5ac9d7a2",
   "metadata": {},
   "outputs": [
    {
     "name": "stdout",
     "output_type": "stream",
     "text": [
      "Root Mean Square Error: 0.11341895413795405\n"
     ]
    }
   ],
   "source": [
    "MSE = np.square(np.subtract(actual,yhat)).mean()   \n",
    "\n",
    "rsme = math.sqrt(MSE)\n",
    "print(f\"Root Mean Square Error: {rsme}\")"
   ]
  },
  {
   "cell_type": "markdown",
   "id": "fe91568c",
   "metadata": {},
   "source": [
    "From the result shown above, we can conclude then if our predicting model is good enough as we get the score not so far from 0. "
   ]
  }
 ],
 "metadata": {
  "kernelspec": {
   "display_name": "Python 3 (ipykernel)",
   "language": "python",
   "name": "python3"
  },
  "language_info": {
   "codemirror_mode": {
    "name": "ipython",
    "version": 3
   },
   "file_extension": ".py",
   "mimetype": "text/x-python",
   "name": "python",
   "nbconvert_exporter": "python",
   "pygments_lexer": "ipython3",
   "version": "3.10.5"
  },
  "toc": {
   "base_numbering": 1,
   "nav_menu": {},
   "number_sections": true,
   "sideBar": true,
   "skip_h1_title": false,
   "title_cell": "Table of Contents",
   "title_sidebar": "Contents",
   "toc_cell": false,
   "toc_position": {},
   "toc_section_display": true,
   "toc_window_display": false
  }
 },
 "nbformat": 4,
 "nbformat_minor": 5
}
